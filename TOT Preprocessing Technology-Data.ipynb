{
 "cells": [
  {
   "cell_type": "markdown",
   "metadata": {
    "pycharm": {
     "name": "#%% md\n"
    }
   },
   "source": [
    "# Exploration & Preprocessing of Text and Timestamps"
   ]
  },
  {
   "cell_type": "markdown",
   "metadata": {},
   "source": [
    "follows preprocessing as required for D-ETM (https://github.com/adjidieng/DETM/tree/master/scripts)"
   ]
  },
  {
   "cell_type": "markdown",
   "metadata": {
    "pycharm": {
     "name": "#%% md\n"
    }
   },
   "source": [
    "## Import Libraries"
   ]
  },
  {
   "cell_type": "code",
   "execution_count": 3,
   "metadata": {
    "pycharm": {
     "name": "#%%\n"
    }
   },
   "outputs": [],
   "source": [
    "#import ast\n",
    "from collections import Counter\n",
    "import html\n",
    "import matplotlib.pyplot as plt\n",
    "#import nltk\n",
    "from nltk.collocations import BigramCollocationFinder, TrigramCollocationFinder\n",
    "#from nltk.corpus import wordnet\n",
    "from nltk.metrics import BigramAssocMeasures, TrigramAssocMeasures\n",
    "#from nltk.stem import WordNetLemmatizer\n",
    "import numpy as np\n",
    "import os\n",
    "from os.path import join\n",
    "import pandas as pd\n",
    "import pickle\n",
    "import re\n",
    "from scipy import sparse\n",
    "from scipy.io import savemat, loadmat\n",
    "from sklearn.feature_extraction.text import CountVectorizer\n",
    "import string\n",
    "import time\n",
    "import unidecode\n",
    "from wordcloud import WordCloud"
   ]
  },
  {
   "cell_type": "markdown",
   "metadata": {
    "pycharm": {
     "name": "#%% md\n"
    }
   },
   "source": [
    "## Set Options"
   ]
  },
  {
   "cell_type": "code",
   "execution_count": 4,
   "metadata": {
    "pycharm": {
     "name": "#%%\n"
    }
   },
   "outputs": [],
   "source": [
    "pd.set_option('display.width', 200)\n",
    "pd.set_option('display.max_columns', 100)\n",
    "plt.close()\n",
    "plt.interactive(True)"
   ]
  },
  {
   "cell_type": "code",
   "execution_count": 5,
   "metadata": {},
   "outputs": [],
   "source": [
    "reduce_observations = False\n",
    "complete_lowercase = True\n",
    "reduce_timestamps = True\n",
    "short_period = True\n",
    "timestamps_grouping = 2 # 2 or 4\n",
    "one_year = False"
   ]
  },
  {
   "cell_type": "code",
   "execution_count": 6,
   "metadata": {},
   "outputs": [],
   "source": [
    "if reduce_timestamps:\n",
    "    if timestamps_grouping != 2 and timestamps_grouping != 4:\n",
    "        print('Choose other grouping setting for timestamps, either 2 or 4.')"
   ]
  },
  {
   "cell_type": "code",
   "execution_count": 7,
   "metadata": {},
   "outputs": [],
   "source": [
    "#if reduce_timestamps:\n",
    "#    timestamps_grouping = timestamps_grouping\n",
    "#else:\n",
    "#    del timestamps_grouping"
   ]
  },
  {
   "cell_type": "markdown",
   "metadata": {},
   "source": [
    "#os.chdir('/Users/Mona/Google_Drive/Masterarbeit/Analysis')# Explore TOT Data"
   ]
  },
  {
   "cell_type": "code",
   "execution_count": 9,
   "metadata": {},
   "outputs": [],
   "source": [
    "os.chdir('/Users/Mona/Google_Drive/Masterarbeit')"
   ]
  },
  {
   "cell_type": "markdown",
   "metadata": {
    "pycharm": {
     "name": "#%% md\n"
    }
   },
   "source": [
    "### Directories"
   ]
  },
  {
   "cell_type": "code",
   "execution_count": 14,
   "metadata": {
    "pycharm": {
     "name": "#%%\n"
    }
   },
   "outputs": [],
   "source": [
    "os.chdir('/Users/Mona/Google_Drive/Masterarbeit/Analysis')"
   ]
  },
  {
   "cell_type": "code",
   "execution_count": 15,
   "metadata": {
    "pycharm": {
     "name": "#%%\n"
    }
   },
   "outputs": [],
   "source": [
    "data_dir = 'Data/Technology-Data/processed/preprocessed/'\n",
    "results_dir = '/Users/Mona/Google_Drive/Masterarbeit/topics_over_time/'"
   ]
  },
  {
   "cell_type": "code",
   "execution_count": 16,
   "metadata": {},
   "outputs": [
    {
     "data": {
      "text/plain": [
       "'Data/Technology-Data/processed/preprocessed/'"
      ]
     },
     "execution_count": 16,
     "metadata": {},
     "output_type": "execute_result"
    }
   ],
   "source": [
    "data_dir"
   ]
  },
  {
   "cell_type": "markdown",
   "metadata": {},
   "source": [
    "### Read & Save Data for TOT Model"
   ]
  },
  {
   "cell_type": "code",
   "execution_count": 17,
   "metadata": {},
   "outputs": [],
   "source": [
    "news = pd.read_csv(data_dir + 'news.csv', sep=\";\", index_col=0)"
   ]
  },
  {
   "cell_type": "code",
   "execution_count": 18,
   "metadata": {},
   "outputs": [
    {
     "data": {
      "text/html": [
       "<div>\n",
       "<style scoped>\n",
       "    .dataframe tbody tr th:only-of-type {\n",
       "        vertical-align: middle;\n",
       "    }\n",
       "\n",
       "    .dataframe tbody tr th {\n",
       "        vertical-align: top;\n",
       "    }\n",
       "\n",
       "    .dataframe thead th {\n",
       "        text-align: right;\n",
       "    }\n",
       "</style>\n",
       "<table border=\"1\" class=\"dataframe\">\n",
       "  <thead>\n",
       "    <tr style=\"text-align: right;\">\n",
       "      <th></th>\n",
       "      <th>id</th>\n",
       "      <th>min_date</th>\n",
       "      <th>min_date_ms</th>\n",
       "      <th>year</th>\n",
       "      <th>text</th>\n",
       "    </tr>\n",
       "  </thead>\n",
       "  <tbody>\n",
       "    <tr>\n",
       "      <th>0</th>\n",
       "      <td>technology/2000/jan/01/y2k.business</td>\n",
       "      <td>2000-01-01</td>\n",
       "      <td>946684800.0</td>\n",
       "      <td>2000</td>\n",
       "      <td>city bug fears recede city workers due desks w...</td>\n",
       "    </tr>\n",
       "    <tr>\n",
       "      <th>1</th>\n",
       "      <td>technology/2000/jan/01/y2k.internationalnews</td>\n",
       "      <td>2000-01-01</td>\n",
       "      <td>946684800.0</td>\n",
       "      <td>2000</td>\n",
       "      <td>global meltdown fears recede fears millennial ...</td>\n",
       "    </tr>\n",
       "    <tr>\n",
       "      <th>2</th>\n",
       "      <td>technology/2000/jan/02/y2k.theobserver</td>\n",
       "      <td>2000-01-02</td>\n",
       "      <td>946771200.0</td>\n",
       "      <td>2000</td>\n",
       "      <td>computer bug absent guest weather centre aberd...</td>\n",
       "    </tr>\n",
       "    <tr>\n",
       "      <th>3</th>\n",
       "      <td>technology/2000/jan/03/lifeonlineaguidetothein...</td>\n",
       "      <td>2000-01-03</td>\n",
       "      <td>946857600.0</td>\n",
       "      <td>2000</td>\n",
       "      <td>ex-pupils offer internet revision tips gcse su...</td>\n",
       "    </tr>\n",
       "    <tr>\n",
       "      <th>4</th>\n",
       "      <td>technology/2000/jan/03/y2k.internationalnews</td>\n",
       "      <td>2000-01-03</td>\n",
       "      <td>946857600.0</td>\n",
       "      <td>2000</td>\n",
       "      <td>chaos_theory proves unfounded world busiest fi...</td>\n",
       "    </tr>\n",
       "  </tbody>\n",
       "</table>\n",
       "</div>"
      ],
      "text/plain": [
       "                                                  id    min_date  min_date_ms  year                                               text\n",
       "0                technology/2000/jan/01/y2k.business  2000-01-01  946684800.0  2000  city bug fears recede city workers due desks w...\n",
       "1       technology/2000/jan/01/y2k.internationalnews  2000-01-01  946684800.0  2000  global meltdown fears recede fears millennial ...\n",
       "2             technology/2000/jan/02/y2k.theobserver  2000-01-02  946771200.0  2000  computer bug absent guest weather centre aberd...\n",
       "3  technology/2000/jan/03/lifeonlineaguidetothein...  2000-01-03  946857600.0  2000  ex-pupils offer internet revision tips gcse su...\n",
       "4       technology/2000/jan/03/y2k.internationalnews  2000-01-03  946857600.0  2000  chaos_theory proves unfounded world busiest fi..."
      ]
     },
     "execution_count": 18,
     "metadata": {},
     "output_type": "execute_result"
    }
   ],
   "source": [
    "news.head()"
   ]
  },
  {
   "cell_type": "code",
   "execution_count": 19,
   "metadata": {},
   "outputs": [],
   "source": [
    "titles = list(news['text'])"
   ]
  },
  {
   "cell_type": "code",
   "execution_count": 20,
   "metadata": {},
   "outputs": [],
   "source": [
    "with open('/Users/Mona/Google_Drive/Masterarbeit/topics_over_time/technology-data/alltitles', 'w') as f:\n",
    "    for a in titles:\n",
    "        f.write(a + '\\n')"
   ]
  },
  {
   "cell_type": "code",
   "execution_count": 21,
   "metadata": {},
   "outputs": [],
   "source": [
    "times = list(news['min_date_ms']) # min_date"
   ]
  },
  {
   "cell_type": "code",
   "execution_count": 23,
   "metadata": {},
   "outputs": [],
   "source": [
    "from collections import Counter"
   ]
  },
  {
   "cell_type": "code",
   "execution_count": 37,
   "metadata": {},
   "outputs": [],
   "source": [
    "with open('/Users/Mona/Google_Drive/Masterarbeit/topics_over_time/technology-data/alltimes', 'w') as f:\n",
    "    for time_key, count in Counter(times).items():\n",
    "        f.write(str(int(count)) + ' -' + str(int(time_key)) + '\\n')"
   ]
  },
  {
   "cell_type": "code",
   "execution_count": null,
   "metadata": {},
   "outputs": [],
   "source": [
    "#count = 0\n",
    "#with open('/Users/Mona/Google_Drive/Masterarbeit/topics_over_time/technology-data/alltimes_test', 'w') as f:\n",
    "#    for idx,t in enumerate(times):\n",
    "#        print('\\n', idx, t)\n",
    "#        if idx == 0:\n",
    "#            count = 1\n",
    "#        elif t == times[idx-1]:\n",
    "#            count = count + 1\n",
    "#        elif idx == len(times)-1:\n",
    "#            f.write(str(times[idx-1]) + ' - ' + str(count))\n",
    "#            print(str(times[idx-1]) + ' - ' + str(count))\n",
    "#            count = 1            \n",
    "#        else:\n",
    "#            f.write(str(times[idx-1]) + ' - ' + str(count))\n",
    "#            print(str(times[idx-1]) + ' - ' + str(count))\n",
    "#            count = 1\n",
    "        "
   ]
  },
  {
   "cell_type": "code",
   "execution_count": null,
   "metadata": {},
   "outputs": [],
   "source": [
    "news['min_date_ms'] = pd.to_datetime(news['min_date'], unit='ms')"
   ]
  }
 ],
 "metadata": {
  "kernelspec": {
   "display_name": "Python 3",
   "language": "python",
   "name": "python3"
  },
  "language_info": {
   "codemirror_mode": {
    "name": "ipython",
    "version": 3
   },
   "file_extension": ".py",
   "mimetype": "text/x-python",
   "name": "python",
   "nbconvert_exporter": "python",
   "pygments_lexer": "ipython3",
   "version": "3.8.3"
  }
 },
 "nbformat": 4,
 "nbformat_minor": 4
}
